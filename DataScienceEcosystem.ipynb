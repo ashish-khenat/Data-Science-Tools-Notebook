{
 "cells": [
  {
   "cell_type": "markdown",
   "id": "2cd0766c-09db-42ae-8fec-5d79dbd63597",
   "metadata": {},
   "source": [
    "# Data Science Tools And Ecosytem"
   ]
  },
  {
   "cell_type": "markdown",
   "id": "ee4eef7f-6e28-49b1-86aa-3c30826ce414",
   "metadata": {},
   "source": [
    "In this notebook, Data Science Tools and Ecosystem are Summarized."
   ]
  },
  {
   "cell_type": "markdown",
   "id": "63254ab4-aa15-447b-9c57-de00b9fccb6b",
   "metadata": {},
   "source": [
    "Some of the popular languages that Data scientists use are:\n",
    "1. Python\n",
    "2. R\n",
    "3. SQL\n",
    "4. C++\n",
    "5. Java etc..."
   ]
  },
  {
   "cell_type": "markdown",
   "id": "3358cc91-1f1a-48a2-83e5-81c657503718",
   "metadata": {},
   "source": [
    "Some of the commonly used libraries used by Data Scientist include: \n",
    "1. TensorFlow\n",
    "2. Numpy\n",
    "3. Scipy\n",
    "4. pandas\n",
    "5. matplotlib\n",
    "6. keras\n",
    "7. scikit-learn\n",
    "8. pytorch  etc...;"
   ]
  },
  {
   "cell_type": "markdown",
   "id": "23576529-a74f-4288-adf5-145df0aa8763",
   "metadata": {},
   "source": [
    "|Data Science Tools |\n",
    "|---|\n",
    "|SAS|\n",
    "|Apache Hadoop|\n",
    "|TensorFlow|\n"
   ]
  },
  {
   "cell_type": "markdown",
   "id": "02256f97-81d6-431f-aa76-c48411c2dfb2",
   "metadata": {},
   "source": [
    "### Below are the examples of evaluating arithematic expressions in python"
   ]
  },
  {
   "cell_type": "code",
   "execution_count": 6,
   "id": "3fdfff7d-cbfa-4de1-9f97-aa0d95aa806a",
   "metadata": {},
   "outputs": [
    {
     "data": {
      "text/plain": [
       "17"
      ]
     },
     "execution_count": 6,
     "metadata": {},
     "output_type": "execute_result"
    }
   ],
   "source": [
    "#This is a simple arithmetic expression to multiply then add integers\n",
    "(3*4)+5"
   ]
  },
  {
   "cell_type": "code",
   "execution_count": 5,
   "id": "cb01a36d-e5eb-410a-83e8-abd2014c0b99",
   "metadata": {},
   "outputs": [
    {
     "data": {
      "text/plain": [
       "3.3333333333333335"
      ]
     },
     "execution_count": 5,
     "metadata": {},
     "output_type": "execute_result"
    }
   ],
   "source": [
    "#cell to convert 200 minutes to hours\n",
    "200/60"
   ]
  },
  {
   "cell_type": "markdown",
   "id": "bef3ab29-38c0-45c7-81f7-ed68ff80895d",
   "metadata": {},
   "source": [
    "_**Objective**_\n",
    "* List popular languages for Data Science\n",
    "* List common used libraries used by Data Scientists\n",
    "* Tabulate data science tools\n",
    "* Evaluate arithmetic expressions"
   ]
  },
  {
   "cell_type": "markdown",
   "id": "9676311c-fd49-4c6d-9e2b-9a4188de0abc",
   "metadata": {},
   "source": [
    "## Author \n",
    "Ashish khenat"
   ]
  },
  {
   "cell_type": "code",
   "execution_count": null,
   "id": "4cf40e6f-e8a4-432b-a127-da45d05ca59f",
   "metadata": {},
   "outputs": [],
   "source": []
  }
 ],
 "metadata": {
  "kernelspec": {
   "display_name": "Python 3 (ipykernel)",
   "language": "python",
   "name": "python3"
  },
  "language_info": {
   "codemirror_mode": {
    "name": "ipython",
    "version": 3
   },
   "file_extension": ".py",
   "mimetype": "text/x-python",
   "name": "python",
   "nbconvert_exporter": "python",
   "pygments_lexer": "ipython3",
   "version": "3.12.8"
  }
 },
 "nbformat": 4,
 "nbformat_minor": 5
}
